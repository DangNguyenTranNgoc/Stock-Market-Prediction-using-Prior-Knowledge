{
  "nbformat": 4,
  "nbformat_minor": 2,
  "metadata": {
    "colab": {
      "name": "Stock-Market-Prediction-using-Prior-Knowledge.ipynb",
      "provenance": [],
      "collapsed_sections": []
    },
    "kernelspec": {
      "name": "python3",
      "display_name": "Python 3"
    },
    "language_info": {
      "name": "python"
    }
  },
  "cells": [
    {
      "cell_type": "markdown",
      "source": [
        "# STOCK MARKET PREDICTION USING PRIOR KNOWLDEGE \n",
        "\n",
        "### Lớp Cao học Khoa học dữ liệu khoa Toán - Tin K30 - KHTN\n",
        "\n",
        "### Nhóm 1 \n",
        "1.   Hà Minh Tuấn          - 20C29041\n",
        "2.   Nguyễn Thanh Thoại    - 20C29039\n",
        "3.   Trần Ngọc Đăng Nguyên - 20C29011\n",
        "\n",
        "[Github](https://github.com/DangNguyenTranNgoc/Stock-Market-Prediction-using-Prior-Knowledge)"
      ],
      "metadata": {
        "id": "UiGmiJbTiThc"
      }
    },
    {
      "cell_type": "code",
      "execution_count": null,
      "source": [
        "#coding: utf-8 \r\n",
        "import pandas as pd\r\n",
        "import numpy as np\r\n",
        "import matplotlib.pyplot as plt\r\n",
        "\r\n",
        "import os\r\n",
        "\r\n",
        "%matplotlib inline\r\n",
        "\r\n",
        "plt.style.use('seaborn-paper')"
      ],
      "outputs": [],
      "metadata": {
        "id": "LtOu1hRxh_lG"
      }
    },
    {
      "cell_type": "code",
      "execution_count": null,
      "source": [
        "# Define const\r\n",
        "DATA_FOLDER = r'/content/drive/MyDrive/Data/stock-market-prediction/'\r\n",
        "\r\n",
        "VNINDEX_FILE_CSV = os.path.abspath('{}{}vnindex.csv'.format(DATA_FOLDER, os.sep))\r\n",
        "VNINDEX_FILE_PKL = os.path.abspath('{}{}vnindex.pkl'.format(DATA_FOLDER, os.sep))\r\n",
        "\r\n",
        "SCORED_DATA = 'summary_data.csv'"
      ],
      "outputs": [],
      "metadata": {
        "id": "hZK2eWKiY44N"
      }
    },
    {
      "cell_type": "markdown",
      "source": [
        "## Preprocessing 'vnindex' data"
      ],
      "metadata": {
        "id": "DnFNzeMRZfae"
      }
    },
    {
      "cell_type": "code",
      "execution_count": null,
      "source": [
        "vnindex_raw = pd.read_csv(VNINDEX_FILE_CSV)\r\n",
        "vnindex_raw.sample(5)"
      ],
      "outputs": [
        {
          "output_type": "execute_result",
          "data": {
            "text/plain": [
              "      <Ticker>  <DTYYYYMMDD>  <OpenFixed>  ...  <VolumeDeal>  <VolumeFB>  <VolumeFS>\n",
              "1387  ^VNINDEX      20151218       574.66  ...             0    67027230    74403190\n",
              "4406  ^VNINDEX      20031029       133.27  ...             0           0           0\n",
              "4844  ^VNINDEX      20011224       248.05  ...             0           0           0\n",
              "862   ^VNINDEX      20180122      1066.86  ...             0    67069820    34522830\n",
              "2570  ^VNINDEX      20110323       464.00  ...             0     3854850     2206130\n",
              "\n",
              "[5 rows x 14 columns]"
            ],
            "text/html": [
              "<div>\n",
              "<style scoped>\n",
              "    .dataframe tbody tr th:only-of-type {\n",
              "        vertical-align: middle;\n",
              "    }\n",
              "\n",
              "    .dataframe tbody tr th {\n",
              "        vertical-align: top;\n",
              "    }\n",
              "\n",
              "    .dataframe thead th {\n",
              "        text-align: right;\n",
              "    }\n",
              "</style>\n",
              "<table border=\"1\" class=\"dataframe\">\n",
              "  <thead>\n",
              "    <tr style=\"text-align: right;\">\n",
              "      <th></th>\n",
              "      <th>&lt;Ticker&gt;</th>\n",
              "      <th>&lt;DTYYYYMMDD&gt;</th>\n",
              "      <th>&lt;OpenFixed&gt;</th>\n",
              "      <th>&lt;HighFixed&gt;</th>\n",
              "      <th>&lt;LowFixed&gt;</th>\n",
              "      <th>&lt;CloseFixed&gt;</th>\n",
              "      <th>&lt;Volume&gt;</th>\n",
              "      <th>&lt;Open&gt;</th>\n",
              "      <th>&lt;High&gt;</th>\n",
              "      <th>&lt;Low&gt;</th>\n",
              "      <th>&lt;Close&gt;</th>\n",
              "      <th>&lt;VolumeDeal&gt;</th>\n",
              "      <th>&lt;VolumeFB&gt;</th>\n",
              "      <th>&lt;VolumeFS&gt;</th>\n",
              "    </tr>\n",
              "  </thead>\n",
              "  <tbody>\n",
              "    <tr>\n",
              "      <th>1387</th>\n",
              "      <td>^VNINDEX</td>\n",
              "      <td>20151218</td>\n",
              "      <td>574.66</td>\n",
              "      <td>578.00</td>\n",
              "      <td>568.18</td>\n",
              "      <td>568.18</td>\n",
              "      <td>179088555</td>\n",
              "      <td>574.66</td>\n",
              "      <td>578.00</td>\n",
              "      <td>568.18</td>\n",
              "      <td>568.18</td>\n",
              "      <td>0</td>\n",
              "      <td>67027230</td>\n",
              "      <td>74403190</td>\n",
              "    </tr>\n",
              "    <tr>\n",
              "      <th>4406</th>\n",
              "      <td>^VNINDEX</td>\n",
              "      <td>20031029</td>\n",
              "      <td>133.27</td>\n",
              "      <td>133.27</td>\n",
              "      <td>133.22</td>\n",
              "      <td>133.22</td>\n",
              "      <td>32230</td>\n",
              "      <td>133.27</td>\n",
              "      <td>133.27</td>\n",
              "      <td>133.22</td>\n",
              "      <td>133.22</td>\n",
              "      <td>0</td>\n",
              "      <td>0</td>\n",
              "      <td>0</td>\n",
              "    </tr>\n",
              "    <tr>\n",
              "      <th>4844</th>\n",
              "      <td>^VNINDEX</td>\n",
              "      <td>20011224</td>\n",
              "      <td>248.05</td>\n",
              "      <td>248.05</td>\n",
              "      <td>248.05</td>\n",
              "      <td>248.05</td>\n",
              "      <td>174900</td>\n",
              "      <td>248.05</td>\n",
              "      <td>248.05</td>\n",
              "      <td>248.05</td>\n",
              "      <td>248.05</td>\n",
              "      <td>0</td>\n",
              "      <td>0</td>\n",
              "      <td>0</td>\n",
              "    </tr>\n",
              "    <tr>\n",
              "      <th>862</th>\n",
              "      <td>^VNINDEX</td>\n",
              "      <td>20180122</td>\n",
              "      <td>1066.86</td>\n",
              "      <td>1088.05</td>\n",
              "      <td>1066.61</td>\n",
              "      <td>1087.42</td>\n",
              "      <td>246215500</td>\n",
              "      <td>1066.86</td>\n",
              "      <td>1088.05</td>\n",
              "      <td>1066.61</td>\n",
              "      <td>1087.42</td>\n",
              "      <td>0</td>\n",
              "      <td>67069820</td>\n",
              "      <td>34522830</td>\n",
              "    </tr>\n",
              "    <tr>\n",
              "      <th>2570</th>\n",
              "      <td>^VNINDEX</td>\n",
              "      <td>20110323</td>\n",
              "      <td>464.00</td>\n",
              "      <td>467.96</td>\n",
              "      <td>463.96</td>\n",
              "      <td>467.64</td>\n",
              "      <td>27018860</td>\n",
              "      <td>464.00</td>\n",
              "      <td>467.96</td>\n",
              "      <td>463.96</td>\n",
              "      <td>467.64</td>\n",
              "      <td>0</td>\n",
              "      <td>3854850</td>\n",
              "      <td>2206130</td>\n",
              "    </tr>\n",
              "  </tbody>\n",
              "</table>\n",
              "</div>"
            ]
          },
          "metadata": {
            "tags": []
          },
          "execution_count": 44
        }
      ],
      "metadata": {
        "colab": {
          "base_uri": "https://localhost:8080/",
          "height": 223
        },
        "id": "b6v_oYAcZij0",
        "outputId": "b941dadc-c27f-46b9-fdd4-1b4acd1952b2"
      }
    },
    {
      "cell_type": "code",
      "execution_count": null,
      "source": [
        "# Drop not need colunms, keep date and adjust close\r\n",
        "drop_columns = ['<Ticker>', '<OpenFixed>', '<HighFixed>', '<LowFixed>', '<Volume>', '<Open>', \r\n",
        "                '<High>', '<Low>', '<Close>', '<VolumeDeal>', '<VolumeFB>', '<VolumeFS>']\r\n",
        "\r\n",
        "vnindex = vnindex_raw.drop(columns=drop_columns, axis=1)\r\n",
        "vnindex.sample(5)"
      ],
      "outputs": [
        {
          "output_type": "execute_result",
          "data": {
            "text/plain": [
              "      <DTYYYYMMDD>  <CloseFixed>\n",
              "83        20210311       1181.73\n",
              "4749      20020612        203.79\n",
              "3032      20090519        400.90\n",
              "1972      20130813        497.73\n",
              "1456      20150914        562.17"
            ],
            "text/html": [
              "<div>\n",
              "<style scoped>\n",
              "    .dataframe tbody tr th:only-of-type {\n",
              "        vertical-align: middle;\n",
              "    }\n",
              "\n",
              "    .dataframe tbody tr th {\n",
              "        vertical-align: top;\n",
              "    }\n",
              "\n",
              "    .dataframe thead th {\n",
              "        text-align: right;\n",
              "    }\n",
              "</style>\n",
              "<table border=\"1\" class=\"dataframe\">\n",
              "  <thead>\n",
              "    <tr style=\"text-align: right;\">\n",
              "      <th></th>\n",
              "      <th>&lt;DTYYYYMMDD&gt;</th>\n",
              "      <th>&lt;CloseFixed&gt;</th>\n",
              "    </tr>\n",
              "  </thead>\n",
              "  <tbody>\n",
              "    <tr>\n",
              "      <th>83</th>\n",
              "      <td>20210311</td>\n",
              "      <td>1181.73</td>\n",
              "    </tr>\n",
              "    <tr>\n",
              "      <th>4749</th>\n",
              "      <td>20020612</td>\n",
              "      <td>203.79</td>\n",
              "    </tr>\n",
              "    <tr>\n",
              "      <th>3032</th>\n",
              "      <td>20090519</td>\n",
              "      <td>400.90</td>\n",
              "    </tr>\n",
              "    <tr>\n",
              "      <th>1972</th>\n",
              "      <td>20130813</td>\n",
              "      <td>497.73</td>\n",
              "    </tr>\n",
              "    <tr>\n",
              "      <th>1456</th>\n",
              "      <td>20150914</td>\n",
              "      <td>562.17</td>\n",
              "    </tr>\n",
              "  </tbody>\n",
              "</table>\n",
              "</div>"
            ]
          },
          "metadata": {
            "tags": []
          },
          "execution_count": 45
        }
      ],
      "metadata": {
        "colab": {
          "base_uri": "https://localhost:8080/",
          "height": 203
        },
        "id": "PHt08y9bZqR4",
        "outputId": "35c278e0-a7b7-4e25-919a-262f2bf6c70e"
      }
    },
    {
      "cell_type": "code",
      "execution_count": null,
      "source": [
        "vnindex.info()"
      ],
      "outputs": [
        {
          "output_type": "stream",
          "name": "stdout",
          "text": [
            "<class 'pandas.core.frame.DataFrame'>\n",
            "RangeIndex: 5058 entries, 0 to 5057\n",
            "Data columns (total 2 columns):\n",
            " #   Column        Non-Null Count  Dtype  \n",
            "---  ------        --------------  -----  \n",
            " 0   <DTYYYYMMDD>  5058 non-null   int64  \n",
            " 1   <CloseFixed>  5058 non-null   float64\n",
            "dtypes: float64(1), int64(1)\n",
            "memory usage: 79.2 KB\n"
          ]
        }
      ],
      "metadata": {
        "colab": {
          "base_uri": "https://localhost:8080/"
        },
        "id": "-1G-GarTZswn",
        "outputId": "ef9f661e-c7f5-49cf-84f9-2bcfdcb88876"
      }
    },
    {
      "cell_type": "code",
      "execution_count": null,
      "source": [
        "# Change name of columns ...\r\n",
        "vnindex.rename(columns={'<DTYYYYMMDD>': 'date','<CloseFixed>': 'CloseFixed'}, inplace=True)\r\n",
        "\r\n",
        "# ... and date column is string. So, convert it to datetime.\r\n",
        "vnindex['date'] = pd.to_datetime(vnindex['date'], format=r'%Y%m%d')\r\n",
        "\r\n",
        "# Check info again\r\n",
        "vnindex.info()"
      ],
      "outputs": [
        {
          "output_type": "stream",
          "name": "stdout",
          "text": [
            "<class 'pandas.core.frame.DataFrame'>\n",
            "RangeIndex: 5058 entries, 0 to 5057\n",
            "Data columns (total 2 columns):\n",
            " #   Column      Non-Null Count  Dtype         \n",
            "---  ------      --------------  -----         \n",
            " 0   date        5058 non-null   datetime64[ns]\n",
            " 1   CloseFixed  5058 non-null   float64       \n",
            "dtypes: datetime64[ns](1), float64(1)\n",
            "memory usage: 79.2 KB\n"
          ]
        }
      ],
      "metadata": {
        "colab": {
          "base_uri": "https://localhost:8080/"
        },
        "id": "801ZmXGJZ5Oq",
        "outputId": "b4f580ae-50eb-4920-9fb6-acda84d330b7"
      }
    },
    {
      "cell_type": "markdown",
      "source": [
        "5058 samples is too much, we just need 380 obs (equivalent to the period from 01/2019 - 07/2021)"
      ],
      "metadata": {
        "id": "Xnkz7ZWuak2P"
      }
    },
    {
      "cell_type": "code",
      "execution_count": null,
      "source": [
        "vnindex = vnindex.head(380)\r\n",
        "vnindex"
      ],
      "outputs": [
        {
          "output_type": "execute_result",
          "data": {
            "text/plain": [
              "          date  CloseFixed\n",
              "0   2021-07-09   1347.1400\n",
              "1   2021-07-08   1374.6801\n",
              "2   2021-07-07   1388.5500\n",
              "3   2021-07-06   1354.7900\n",
              "4   2021-07-05   1411.1300\n",
              "..         ...         ...\n",
              "375 2020-01-07    958.8800\n",
              "376 2020-01-06    955.7900\n",
              "377 2020-01-03    965.1400\n",
              "378 2020-01-02    966.6700\n",
              "379 2019-12-31    960.9900\n",
              "\n",
              "[380 rows x 2 columns]"
            ],
            "text/html": [
              "<div>\n",
              "<style scoped>\n",
              "    .dataframe tbody tr th:only-of-type {\n",
              "        vertical-align: middle;\n",
              "    }\n",
              "\n",
              "    .dataframe tbody tr th {\n",
              "        vertical-align: top;\n",
              "    }\n",
              "\n",
              "    .dataframe thead th {\n",
              "        text-align: right;\n",
              "    }\n",
              "</style>\n",
              "<table border=\"1\" class=\"dataframe\">\n",
              "  <thead>\n",
              "    <tr style=\"text-align: right;\">\n",
              "      <th></th>\n",
              "      <th>date</th>\n",
              "      <th>CloseFixed</th>\n",
              "    </tr>\n",
              "  </thead>\n",
              "  <tbody>\n",
              "    <tr>\n",
              "      <th>0</th>\n",
              "      <td>2021-07-09</td>\n",
              "      <td>1347.1400</td>\n",
              "    </tr>\n",
              "    <tr>\n",
              "      <th>1</th>\n",
              "      <td>2021-07-08</td>\n",
              "      <td>1374.6801</td>\n",
              "    </tr>\n",
              "    <tr>\n",
              "      <th>2</th>\n",
              "      <td>2021-07-07</td>\n",
              "      <td>1388.5500</td>\n",
              "    </tr>\n",
              "    <tr>\n",
              "      <th>3</th>\n",
              "      <td>2021-07-06</td>\n",
              "      <td>1354.7900</td>\n",
              "    </tr>\n",
              "    <tr>\n",
              "      <th>4</th>\n",
              "      <td>2021-07-05</td>\n",
              "      <td>1411.1300</td>\n",
              "    </tr>\n",
              "    <tr>\n",
              "      <th>...</th>\n",
              "      <td>...</td>\n",
              "      <td>...</td>\n",
              "    </tr>\n",
              "    <tr>\n",
              "      <th>375</th>\n",
              "      <td>2020-01-07</td>\n",
              "      <td>958.8800</td>\n",
              "    </tr>\n",
              "    <tr>\n",
              "      <th>376</th>\n",
              "      <td>2020-01-06</td>\n",
              "      <td>955.7900</td>\n",
              "    </tr>\n",
              "    <tr>\n",
              "      <th>377</th>\n",
              "      <td>2020-01-03</td>\n",
              "      <td>965.1400</td>\n",
              "    </tr>\n",
              "    <tr>\n",
              "      <th>378</th>\n",
              "      <td>2020-01-02</td>\n",
              "      <td>966.6700</td>\n",
              "    </tr>\n",
              "    <tr>\n",
              "      <th>379</th>\n",
              "      <td>2019-12-31</td>\n",
              "      <td>960.9900</td>\n",
              "    </tr>\n",
              "  </tbody>\n",
              "</table>\n",
              "<p>380 rows × 2 columns</p>\n",
              "</div>"
            ]
          },
          "metadata": {
            "tags": []
          },
          "execution_count": 48
        }
      ],
      "metadata": {
        "colab": {
          "base_uri": "https://localhost:8080/",
          "height": 417
        },
        "id": "nA9sb-ZkaHHV",
        "outputId": "dd9da6b3-2bcd-4521-d0c3-23d91bdae197"
      }
    },
    {
      "cell_type": "markdown",
      "source": [
        "## Plot the data"
      ],
      "metadata": {
        "id": "nLjzJiaBbYRd"
      }
    },
    {
      "cell_type": "code",
      "execution_count": null,
      "source": [
        "vnindex.plot(x='date', y='CloseFixed', xlabel='Time', ylabel='VNIndex Point', \r\n",
        "            title='VNIndex by time', legend=False, figsize=(16,8))"
      ],
      "outputs": [
        {
          "output_type": "execute_result",
          "data": {
            "text/plain": [
              "<matplotlib.axes._subplots.AxesSubplot at 0x7fa9f66b6450>"
            ]
          },
          "metadata": {
            "tags": []
          },
          "execution_count": 49
        },
        {
          "output_type": "display_data",
          "data": {
            "text/plain": [
              "<Figure size 1152x576 with 1 Axes>"
            ],
            "image/png": "[encoded data removed]"
          },
          "metadata": {
            "tags": [],
            "needs_background": "light"
          }
        }
      ],
      "metadata": {
        "colab": {
          "base_uri": "https://localhost:8080/",
          "height": 500
        },
        "id": "5T5Jkt8SbQjl",
        "outputId": "ea2b1e02-55e7-4e63-cdbb-024ed4c1dc3f"
      }
    },
    {
      "cell_type": "code",
      "execution_count": null,
      "source": [
        "# Plot autocorrelation\r\n",
        "from pandas.plotting import autocorrelation_plot\r\n",
        "autocorrelation_plot(vnindex['CloseFixed'])"
      ],
      "outputs": [
        {
          "output_type": "execute_result",
          "data": {
            "text/plain": [
              "<matplotlib.axes._subplots.AxesSubplot at 0x7fa9f6638090>"
            ]
          },
          "metadata": {
            "tags": []
          },
          "execution_count": 50
        },
        {
          "output_type": "display_data",
          "data": {
            "text/plain": [
              "<Figure size 460.8x316.8 with 1 Axes>"
            ],
            "image/png": "[encoded data removed]"
          },
          "metadata": {
            "tags": [],
            "needs_background": "light"
          }
        }
      ],
      "metadata": {
        "colab": {
          "base_uri": "https://localhost:8080/",
          "height": 322
        },
        "id": "zpzPCiu-cGV2",
        "outputId": "abf9a2c9-b54e-4805-994f-c0f4ebf5fb8e"
      }
    },
    {
      "cell_type": "markdown",
      "source": [
        "## ARIMA model\n"
      ],
      "metadata": {
        "id": "WEb7cfkdbblI"
      }
    },
    {
      "cell_type": "markdown",
      "source": [
        "Try with default hyperparameters"
      ],
      "metadata": {
        "id": "J8OoC_Fhc5n9"
      }
    },
    {
      "cell_type": "code",
      "execution_count": null,
      "source": [
        "!pip install \"statsmodels==0.11.1\""
      ],
      "outputs": [
        {
          "output_type": "stream",
          "name": "stdout",
          "text": [
            "Requirement already satisfied: statsmodels==0.11.1 in /usr/local/lib/python3.7/dist-packages (0.11.1)\n",
            "Requirement already satisfied: pandas>=0.21 in /usr/local/lib/python3.7/dist-packages (from statsmodels==0.11.1) (1.1.5)\n",
            "Requirement already satisfied: scipy>=1.0 in /usr/local/lib/python3.7/dist-packages (from statsmodels==0.11.1) (1.4.1)\n",
            "Requirement already satisfied: patsy>=0.5 in /usr/local/lib/python3.7/dist-packages (from statsmodels==0.11.1) (0.5.1)\n",
            "Requirement already satisfied: numpy>=1.14 in /usr/local/lib/python3.7/dist-packages (from statsmodels==0.11.1) (1.19.5)\n",
            "Requirement already satisfied: pytz>=2017.2 in /usr/local/lib/python3.7/dist-packages (from pandas>=0.21->statsmodels==0.11.1) (2018.9)\n",
            "Requirement already satisfied: python-dateutil>=2.7.3 in /usr/local/lib/python3.7/dist-packages (from pandas>=0.21->statsmodels==0.11.1) (2.8.1)\n",
            "Requirement already satisfied: six in /usr/local/lib/python3.7/dist-packages (from patsy>=0.5->statsmodels==0.11.1) (1.15.0)\n"
          ]
        }
      ],
      "metadata": {
        "colab": {
          "base_uri": "https://localhost:8080/"
        },
        "id": "holK8YFviTcG",
        "outputId": "f6d88297-f0ed-48eb-ccc4-60ca6b9d6ecb"
      }
    },
    {
      "cell_type": "code",
      "execution_count": null,
      "source": [
        "from statsmodels.tsa.arima.model import ARIMA\r\n",
        "from sklearn.metrics import mean_squared_error\r\n",
        "import warnings\r\n",
        "warnings.filterwarnings(\"ignore\")"
      ],
      "outputs": [],
      "metadata": {
        "id": "lG6HYdRKcY6t"
      }
    },
    {
      "cell_type": "code",
      "execution_count": null,
      "source": [
        "# Data prepare\r\n",
        "X = vnindex['CloseFixed']\r\n",
        "train_size = int(len(X) * 0.8)\r\n",
        "train, test = X[:train_size], X[train_size:len(X)]\r\n",
        "\r\n",
        "# Convert series data to list\r\n",
        "history = [v for v in train]\r\n",
        "test = [v for v in test]\r\n",
        "prediction = list()"
      ],
      "outputs": [],
      "metadata": {
        "id": "-qdlrCMRdGF7"
      }
    },
    {
      "cell_type": "code",
      "execution_count": null,
      "source": [
        "# function plot results\r\n",
        "def plot_evaluate(prediction, test):\r\n",
        "    plt.plot(test, label='Real value')\r\n",
        "    plt.plot(prediction, color='red', label='Predicted value')\r\n",
        "    plt.legend()\r\n",
        "    plt.show()"
      ],
      "outputs": [],
      "metadata": {
        "id": "OiiVStVZdOAe"
      }
    },
    {
      "cell_type": "code",
      "execution_count": null,
      "source": [
        "# ARIMA with default hyperparameters\r\n",
        "for t in range(len(test)):\r\n",
        "\tmodel = ARIMA(history)\r\n",
        "\tmodel_fit = model.fit()\r\n",
        "\toutput = model_fit.forecast()\r\n",
        "\ty = output[0]\r\n",
        "\tprediction.append(y)\r\n",
        "\tobs = test[t]\r\n",
        "\thistory.append(obs)\r\n",
        "\tprint('predicted={:f}, expected={:f}'.format(y, obs))\r\n",
        "\r\n",
        "# evaluate forecasts\r\n",
        "rmse = mean_squared_error(y_true=test, y_pred=prediction, squared=False)\r\n",
        "print('Test RMSE: {:.3f}'.format(rmse))\r\n",
        "\r\n",
        "# plot forecasts against actual outcomes\r\n",
        "plot_evaluate(prediction, test)"
      ],
      "outputs": [
        {
          "output_type": "stream",
          "name": "stdout",
          "text": [
            "predicted=1043.956104, expected=773.910000\n",
            "predicted=1043.070063, expected=768.920000\n",
            "predicted=1042.174147, expected=766.840000\n",
            "predicted=1041.277294, expected=794.970000\n",
            "predicted=1040.477567, expected=789.600000\n",
            "predicted=1039.665765, expected=780.700000\n",
            "predicted=1038.830320, expected=777.220000\n",
            "predicted=1037.989130, expected=767.410000\n",
            "predicted=1037.121891, expected=765.790000\n",
            "predicted=1036.255016, expected=757.940000\n",
            "predicted=1035.368654, expected=760.330000\n",
            "predicted=1034.495524, expected=748.020000\n",
            "predicted=1033.588952, expected=746.690000\n",
            "predicted=1032.683907, expected=736.750000\n",
            "predicted=1031.753300, expected=701.800000\n",
            "predicted=1030.718967, expected=680.230000\n",
            "predicted=1029.623689, expected=662.530000\n",
            "predicted=1028.480217, expected=662.260000\n",
            "predicted=1027.342767, expected=696.060000\n",
            "predicted=1026.317120, expected=694.210000\n",
            "predicted=1025.292093, expected=690.250000\n",
            "predicted=1024.261197, expected=659.210000\n",
            "predicted=1023.141588, expected=666.590000\n",
            "predicted=1022.051041, expected=709.730000\n",
            "predicted=1021.098838, expected=725.940000\n",
            "predicted=1020.201697, expected=747.660000\n",
            "predicted=1019.375808, expected=745.780000\n",
            "predicted=1018.549264, expected=747.860000\n",
            "predicted=1017.733916, expected=761.780000\n",
            "predicted=1016.965279, expected=769.250000\n",
            "predicted=1016.223149, expected=811.350000\n",
            "predicted=1015.612061, expected=837.500000\n",
            "predicted=1015.081963, expected=835.490000\n",
            "predicted=1014.549051, expected=891.440000\n",
            "predicted=1014.184819, expected=893.310000\n",
            "predicted=1013.825741, expected=889.370000\n",
            "predicted=1013.462198, expected=890.610000\n",
            "predicted=1013.101928, expected=884.430000\n",
            "predicted=1012.725697, expected=882.190000\n",
            "predicted=1012.345138, expected=898.440000\n",
            "predicted=1012.014016, expected=895.970000\n",
            "predicted=1011.677655, expected=909.670000\n",
            "predicted=1011.382830, expected=903.340000\n",
            "predicted=1011.071464, expected=933.090000\n",
            "predicted=1010.847386, expected=938.130000\n",
            "predicted=1010.639018, expected=928.760000\n",
            "predicted=1010.405083, expected=927.930000\n",
            "predicted=1010.170136, expected=934.770000\n",
            "predicted=1009.955902, expected=937.450000\n",
            "predicted=1009.750507, expected=938.240000\n",
            "predicted=1009.548502, expected=937.680000\n",
            "predicted=1009.346055, expected=934.670000\n",
            "predicted=1009.136234, expected=930.730000\n",
            "predicted=1008.916664, expected=940.750000\n",
            "predicted=1008.726250, expected=938.540000\n",
            "predicted=1008.530753, expected=925.910000\n",
            "predicted=1008.301243, expected=929.090000\n",
            "predicted=1008.081820, expected=928.140000\n",
            "predicted=1007.860991, expected=936.620000\n",
            "predicted=1007.664604, expected=959.580000\n",
            "predicted=1007.532891, expected=991.460000\n",
            "predicted=1007.488469, expected=986.370000\n",
            "predicted=1007.430892, expected=978.630000\n",
            "predicted=1007.352294, expected=978.960000\n",
            "predicted=1007.275266, expected=974.310000\n",
            "predicted=1007.185933, expected=967.560000\n",
            "predicted=1007.078837, expected=967.000000\n",
            "predicted=1006.970807, expected=965.840000\n",
            "predicted=1006.860236, expected=968.540000\n",
            "predicted=1006.757504, expected=960.150000\n",
            "predicted=1006.632883, expected=948.980000\n",
            "predicted=1006.479173, expected=958.880000\n",
            "predicted=1006.352549, expected=955.790000\n",
            "predicted=1006.218428, expected=965.140000\n",
            "predicted=1006.109759, expected=966.670000\n",
            "predicted=1006.005698, expected=960.990000\n",
            "Test RMSE: 199.676\n"
          ]
        },
        {
          "output_type": "display_data",
          "data": {
            "text/plain": [
              "<Figure size 460.8x316.8 with 1 Axes>"
            ],
            "image/png": "[encoded data removed]"
          },
          "metadata": {
            "tags": [],
            "needs_background": "light"
          }
        }
      ],
      "metadata": {
        "colab": {
          "base_uri": "https://localhost:8080/",
          "height": 1000
        },
        "id": "MXHuvEiWd8j9",
        "outputId": "28cbd9d2-e54f-4b71-fc82-0617cc9a5116"
      }
    },
    {
      "cell_type": "markdown",
      "source": [
        "### Find the suitable hyperparameters\n",
        "\n",
        "Using grid search with:\n",
        "\n",
        "- Autoregressive (p_values): 0, 1, 2, 4, 6, 8, 10\n",
        "- Differences (d_values): 0, 1, 2\n",
        "- Moving Average (q_values): 0, 1, 2"
      ],
      "metadata": {
        "id": "dQ2zdqgXeHrz"
      }
    },
    {
      "cell_type": "code",
      "execution_count": null,
      "source": [
        "def evaluate_arima_model(X, arima_order):\r\n",
        "    train_size = int(len(X) * 0.8)\r\n",
        "    train, test = X[:train_size], X[train_size:]\r\n",
        "    \r\n",
        "    history = [v for v in train]\r\n",
        "    test = [v for v in test]\r\n",
        "\r\n",
        "    prediction = list()\r\n",
        "    for t in range(len(test)):\r\n",
        "        model = ARIMA(history, order=arima_order)\r\n",
        "        model_fit = model.fit()\r\n",
        "        y = model_fit.forecast()[0]\r\n",
        "        prediction.append(y)\r\n",
        "        history.append(test[t])\r\n",
        "\r\n",
        "    rmse = mean_squared_error(test, prediction, squared=False)\r\n",
        "    \r\n",
        "    return rmse"
      ],
      "outputs": [],
      "metadata": {
        "id": "AemvOhc-eBkC"
      }
    },
    {
      "cell_type": "code",
      "execution_count": null,
      "source": [
        "def evaluate_models(dataset, p_values, d_values, q_values):\r\n",
        "    dataset = dataset.astype('float32')\r\n",
        "    best_score, best_cfg = float(\"inf\"), None\r\n",
        "    \r\n",
        "    for p in p_values:\r\n",
        "        for d in d_values:\r\n",
        "            for q in q_values:\r\n",
        "                order = (p,d,q)\r\n",
        "                try:\r\n",
        "                    rmse = evaluate_arima_model(dataset, order)\r\n",
        "                    print('Order: {} / RMSE: {}'.format(order, rmse))\r\n",
        "                    if rmse < best_score:\r\n",
        "                        best_score, best_cfg = rmse, order\r\n",
        "                        print('ARIMA%s RMSE=%.3f' % (order,rmse))\r\n",
        "                except Exception as ex:\r\n",
        "                    print(ex)\r\n",
        "                    continue\r\n",
        "    \r\n",
        "    print('Best ARIMA{} RMSE={:.3f}'.format(best_cfg, best_score))"
      ],
      "outputs": [],
      "metadata": {
        "id": "Bb-XPVKgeVgt"
      }
    },
    {
      "cell_type": "markdown",
      "source": [
        "Find the suitable hyperparameters"
      ],
      "metadata": {
        "id": "8uwGQUSnZwLt"
      }
    },
    {
      "cell_type": "code",
      "execution_count": null,
      "source": [
        "# p_values = [0, 1, 2, 4, 6, 8]\r\n",
        "# d_values = range(0, 3)\r\n",
        "# q_values = range(0, 3)\r\n",
        "# warnings.filterwarnings(\"ignore\")\r\n",
        "# evaluate_models(vnindex['CloseFixed'], p_values, d_values, q_values)"
      ],
      "outputs": [],
      "metadata": {
        "id": "gC1w-8jAeao-"
      }
    },
    {
      "cell_type": "markdown",
      "source": [
        "### Check the result"
      ],
      "metadata": {
        "id": "cUE1tfdtegYG"
      }
    },
    {
      "cell_type": "code",
      "execution_count": null,
      "source": [
        "X = vnindex['CloseFixed']\r\n",
        "train_size = int(len(X) * 0.7)\r\n",
        "train, test = X[:train_size], X[train_size:len(X)]\r\n",
        "\r\n",
        "# Convert series to list\r\n",
        "history = [v for v in train]\r\n",
        "test = [v for v in test]\r\n",
        "prediction = list()\r\n",
        "\r\n",
        "# ARIMA\r\n",
        "for t in range(len(test)):\r\n",
        "\tmodel = ARIMA(history, order=(6, 2, 1))\r\n",
        "\tmodel_fit = model.fit()\r\n",
        "\toutput = model_fit.forecast()\r\n",
        "\ty = output[0]\r\n",
        "\tprediction.append(y)\r\n",
        "\tobs = test[t]\r\n",
        "\thistory.append(obs)\r\n",
        "\r\n",
        "# evaluate forecasts\r\n",
        "rmse = mean_squared_error(y_true=test, y_pred=prediction, squared=False)\r\n",
        "print('Test RMSE: {:.3f}'.format(rmse))\r\n",
        "\r\n",
        "# plot forecasts against actual outcomes\r\n",
        "plot_evaluate(prediction, test)"
      ],
      "outputs": [
        {
          "output_type": "stream",
          "name": "stdout",
          "text": [
            "Test RMSE: 13.874\n"
          ]
        },
        {
          "output_type": "display_data",
          "data": {
            "text/plain": [
              "<Figure size 460.8x316.8 with 1 Axes>"
            ],
            "image/png": "[encoded data removed]"
          },
          "metadata": {
            "tags": [],
            "needs_background": "light"
          }
        }
      ],
      "metadata": {
        "colab": {
          "base_uri": "https://localhost:8080/",
          "height": 305
        },
        "id": "VUGdxW1ZeeHr",
        "outputId": "a2d21569-5fe8-4801-b402-ebead1e3f043"
      }
    },
    {
      "cell_type": "markdown",
      "source": [
        "### Save the predicted score"
      ],
      "metadata": {}
    },
    {
      "cell_type": "code",
      "execution_count": null,
      "source": [
        "pred_df = vnindex.copy()\r\n",
        "pred_df.drop(columns='CloseFixed', inplace=True)\r\n",
        "pred_df['CloseFixed'] = history\r\n",
        "pred_df\r\n",
        "pred_df.to_csv('{}{}arima_pred.csv'.format(DATA_FOLDER, os.sep), index=False)"
      ],
      "outputs": [],
      "metadata": {
        "id": "fK2VmUAmMmu0"
      }
    }
  ]
}