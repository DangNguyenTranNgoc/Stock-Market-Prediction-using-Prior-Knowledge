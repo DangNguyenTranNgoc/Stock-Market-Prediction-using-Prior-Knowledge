{
    "cells": [
        {
            "cell_type": "markdown",
            "source": [
                "# STOCK MARKET PREDICTION USING PRIOR KNOWLDEGE\r\n",
                "\r\n",
                "This file is used to EDA and make some experiment.\r\n",
                "\r\n"
            ],
            "metadata": {}
        },
        {
            "cell_type": "code",
            "execution_count": 116,
            "source": [
                "import pandas as pd\r\n",
                "import numpy as np\r\n",
                "import matplotlib.pyplot as plt\r\n",
                "\r\n",
                "import os\r\n",
                "\r\n",
                "%matplotlib inline\r\n",
                "\r\n",
                "plt.style.use('seaborn-paper')"
            ],
            "outputs": [],
            "metadata": {}
        },
        {
            "cell_type": "code",
            "execution_count": 117,
            "source": [
                "# Define const\r\n",
                "DATA_FOLDER = r'C:\\Users\\dangn\\OneDrive - VNU-HCMUS\\HKII-2020-2021\\Knowledge Representation\\Stock-Market-Prediction-using-Prior-Knowledge\\data'\r\n",
                "\r\n",
                "VNINDEX_FILE_CSV = os.path.abspath('{}{}vnindex.csv'.format(DATA_FOLDER, os.sep))"
            ],
            "outputs": [],
            "metadata": {}
        },
        {
            "cell_type": "markdown",
            "source": [
                "## Preprocess 'vnindex' data"
            ],
            "metadata": {}
        },
        {
            "cell_type": "code",
            "execution_count": 118,
            "source": [
                "vnindex_raw = pd.read_csv(VNINDEX_FILE_CSV)\r\n",
                "vnindex_raw.sample(5)\r\n"
            ],
            "outputs": [
                {
                    "output_type": "execute_result",
                    "data": {
                        "text/plain": [
                            "      <Ticker>  <DTYYYYMMDD>  <OpenFixed>  <HighFixed>  <LowFixed>  \\\n",
                            "2633  ^VNINDEX      20101215       492.80       497.09      491.51   \n",
                            "2192  ^VNINDEX      20120924       392.16       394.54      390.08   \n",
                            "965   ^VNINDEX      20170828       771.81       777.26      770.51   \n",
                            "4517  ^VNINDEX      20030523       153.32       153.32      152.92   \n",
                            "2215  ^VNINDEX      20120821       430.79       430.79      416.23   \n",
                            "\n",
                            "      <CloseFixed>   <Volume>  <Open>  <High>   <Low>  <Close>  <VolumeDeal>  \\\n",
                            "2633        493.47   85904270  492.80  497.09  491.51   493.47             0   \n",
                            "2192        390.37   23173940  392.16  394.54  390.08   390.37             0   \n",
                            "965         777.26  240572610  771.81  777.26  770.51   777.26             0   \n",
                            "4517        152.92      22400  153.32  153.32  152.92   152.92             0   \n",
                            "2215        416.84   61664400  430.79  430.79  416.23   416.84             0   \n",
                            "\n",
                            "      <VolumeFB>  <VolumeFS>  \n",
                            "2633     7412430     7086120  \n",
                            "2192     2036760     5962490  \n",
                            "965      8904515     7311605  \n",
                            "4517           0           0  \n",
                            "2215     7942879     2896589  "
                        ],
                        "text/html": [
                            "<div>\n",
                            "<style scoped>\n",
                            "    .dataframe tbody tr th:only-of-type {\n",
                            "        vertical-align: middle;\n",
                            "    }\n",
                            "\n",
                            "    .dataframe tbody tr th {\n",
                            "        vertical-align: top;\n",
                            "    }\n",
                            "\n",
                            "    .dataframe thead th {\n",
                            "        text-align: right;\n",
                            "    }\n",
                            "</style>\n",
                            "<table border=\"1\" class=\"dataframe\">\n",
                            "  <thead>\n",
                            "    <tr style=\"text-align: right;\">\n",
                            "      <th></th>\n",
                            "      <th>&lt;Ticker&gt;</th>\n",
                            "      <th>&lt;DTYYYYMMDD&gt;</th>\n",
                            "      <th>&lt;OpenFixed&gt;</th>\n",
                            "      <th>&lt;HighFixed&gt;</th>\n",
                            "      <th>&lt;LowFixed&gt;</th>\n",
                            "      <th>&lt;CloseFixed&gt;</th>\n",
                            "      <th>&lt;Volume&gt;</th>\n",
                            "      <th>&lt;Open&gt;</th>\n",
                            "      <th>&lt;High&gt;</th>\n",
                            "      <th>&lt;Low&gt;</th>\n",
                            "      <th>&lt;Close&gt;</th>\n",
                            "      <th>&lt;VolumeDeal&gt;</th>\n",
                            "      <th>&lt;VolumeFB&gt;</th>\n",
                            "      <th>&lt;VolumeFS&gt;</th>\n",
                            "    </tr>\n",
                            "  </thead>\n",
                            "  <tbody>\n",
                            "    <tr>\n",
                            "      <th>2633</th>\n",
                            "      <td>^VNINDEX</td>\n",
                            "      <td>20101215</td>\n",
                            "      <td>492.80</td>\n",
                            "      <td>497.09</td>\n",
                            "      <td>491.51</td>\n",
                            "      <td>493.47</td>\n",
                            "      <td>85904270</td>\n",
                            "      <td>492.80</td>\n",
                            "      <td>497.09</td>\n",
                            "      <td>491.51</td>\n",
                            "      <td>493.47</td>\n",
                            "      <td>0</td>\n",
                            "      <td>7412430</td>\n",
                            "      <td>7086120</td>\n",
                            "    </tr>\n",
                            "    <tr>\n",
                            "      <th>2192</th>\n",
                            "      <td>^VNINDEX</td>\n",
                            "      <td>20120924</td>\n",
                            "      <td>392.16</td>\n",
                            "      <td>394.54</td>\n",
                            "      <td>390.08</td>\n",
                            "      <td>390.37</td>\n",
                            "      <td>23173940</td>\n",
                            "      <td>392.16</td>\n",
                            "      <td>394.54</td>\n",
                            "      <td>390.08</td>\n",
                            "      <td>390.37</td>\n",
                            "      <td>0</td>\n",
                            "      <td>2036760</td>\n",
                            "      <td>5962490</td>\n",
                            "    </tr>\n",
                            "    <tr>\n",
                            "      <th>965</th>\n",
                            "      <td>^VNINDEX</td>\n",
                            "      <td>20170828</td>\n",
                            "      <td>771.81</td>\n",
                            "      <td>777.26</td>\n",
                            "      <td>770.51</td>\n",
                            "      <td>777.26</td>\n",
                            "      <td>240572610</td>\n",
                            "      <td>771.81</td>\n",
                            "      <td>777.26</td>\n",
                            "      <td>770.51</td>\n",
                            "      <td>777.26</td>\n",
                            "      <td>0</td>\n",
                            "      <td>8904515</td>\n",
                            "      <td>7311605</td>\n",
                            "    </tr>\n",
                            "    <tr>\n",
                            "      <th>4517</th>\n",
                            "      <td>^VNINDEX</td>\n",
                            "      <td>20030523</td>\n",
                            "      <td>153.32</td>\n",
                            "      <td>153.32</td>\n",
                            "      <td>152.92</td>\n",
                            "      <td>152.92</td>\n",
                            "      <td>22400</td>\n",
                            "      <td>153.32</td>\n",
                            "      <td>153.32</td>\n",
                            "      <td>152.92</td>\n",
                            "      <td>152.92</td>\n",
                            "      <td>0</td>\n",
                            "      <td>0</td>\n",
                            "      <td>0</td>\n",
                            "    </tr>\n",
                            "    <tr>\n",
                            "      <th>2215</th>\n",
                            "      <td>^VNINDEX</td>\n",
                            "      <td>20120821</td>\n",
                            "      <td>430.79</td>\n",
                            "      <td>430.79</td>\n",
                            "      <td>416.23</td>\n",
                            "      <td>416.84</td>\n",
                            "      <td>61664400</td>\n",
                            "      <td>430.79</td>\n",
                            "      <td>430.79</td>\n",
                            "      <td>416.23</td>\n",
                            "      <td>416.84</td>\n",
                            "      <td>0</td>\n",
                            "      <td>7942879</td>\n",
                            "      <td>2896589</td>\n",
                            "    </tr>\n",
                            "  </tbody>\n",
                            "</table>\n",
                            "</div>"
                        ]
                    },
                    "metadata": {},
                    "execution_count": 118
                }
            ],
            "metadata": {}
        },
        {
            "cell_type": "code",
            "execution_count": 119,
            "source": [
                "# Drop not need colunms, keep date and adjust close\r\n",
                "\r\n",
                "drop_columns = ['<Ticker>', '<OpenFixed>', '<HighFixed>', '<LowFixed>', '<Volume>', '<Open>', \r\n",
                "                '<High>', '<Low>', '<Close>', '<VolumeDeal>', '<VolumeFB>', '<VolumeFS>']\r\n",
                "\r\n",
                "vnindex = vnindex_raw.drop(columns=drop_columns, axis=1)\r\n",
                "vnindex.sample(5)"
            ],
            "outputs": [
                {
                    "output_type": "execute_result",
                    "data": {
                        "text/plain": [
                            "      <DTYYYYMMDD>  <CloseFixed>\n",
                            "1247      20160714        666.69\n",
                            "3485      20070716        995.83\n",
                            "3388      20071129        980.09\n",
                            "1821      20140325        601.85\n",
                            "67        20210402       1224.45"
                        ],
                        "text/html": [
                            "<div>\n",
                            "<style scoped>\n",
                            "    .dataframe tbody tr th:only-of-type {\n",
                            "        vertical-align: middle;\n",
                            "    }\n",
                            "\n",
                            "    .dataframe tbody tr th {\n",
                            "        vertical-align: top;\n",
                            "    }\n",
                            "\n",
                            "    .dataframe thead th {\n",
                            "        text-align: right;\n",
                            "    }\n",
                            "</style>\n",
                            "<table border=\"1\" class=\"dataframe\">\n",
                            "  <thead>\n",
                            "    <tr style=\"text-align: right;\">\n",
                            "      <th></th>\n",
                            "      <th>&lt;DTYYYYMMDD&gt;</th>\n",
                            "      <th>&lt;CloseFixed&gt;</th>\n",
                            "    </tr>\n",
                            "  </thead>\n",
                            "  <tbody>\n",
                            "    <tr>\n",
                            "      <th>1247</th>\n",
                            "      <td>20160714</td>\n",
                            "      <td>666.69</td>\n",
                            "    </tr>\n",
                            "    <tr>\n",
                            "      <th>3485</th>\n",
                            "      <td>20070716</td>\n",
                            "      <td>995.83</td>\n",
                            "    </tr>\n",
                            "    <tr>\n",
                            "      <th>3388</th>\n",
                            "      <td>20071129</td>\n",
                            "      <td>980.09</td>\n",
                            "    </tr>\n",
                            "    <tr>\n",
                            "      <th>1821</th>\n",
                            "      <td>20140325</td>\n",
                            "      <td>601.85</td>\n",
                            "    </tr>\n",
                            "    <tr>\n",
                            "      <th>67</th>\n",
                            "      <td>20210402</td>\n",
                            "      <td>1224.45</td>\n",
                            "    </tr>\n",
                            "  </tbody>\n",
                            "</table>\n",
                            "</div>"
                        ]
                    },
                    "metadata": {},
                    "execution_count": 119
                }
            ],
            "metadata": {}
        },
        {
            "cell_type": "code",
            "execution_count": 120,
            "source": [
                "vnindex.info()"
            ],
            "outputs": [
                {
                    "output_type": "stream",
                    "name": "stdout",
                    "text": [
                        "<class 'pandas.core.frame.DataFrame'>\n",
                        "RangeIndex: 5058 entries, 0 to 5057\n",
                        "Data columns (total 2 columns):\n",
                        " #   Column        Non-Null Count  Dtype  \n",
                        "---  ------        --------------  -----  \n",
                        " 0   <DTYYYYMMDD>  5058 non-null   int64  \n",
                        " 1   <CloseFixed>  5058 non-null   float64\n",
                        "dtypes: float64(1), int64(1)\n",
                        "memory usage: 79.2 KB\n"
                    ]
                }
            ],
            "metadata": {}
        },
        {
            "cell_type": "code",
            "execution_count": 121,
            "source": [
                "vnindex.rename(columns={'<DTYYYYMMDD>': 'date','<CloseFixed>': 'CloseFixed'}, inplace=True)\r\n",
                "vnindex['date'] = pd.to_datetime(vnindex['date'], format=r'%Y%m%d')\r\n",
                "vnindex.sample(5)"
            ],
            "outputs": [
                {
                    "output_type": "execute_result",
                    "data": {
                        "text/plain": [
                            "           date  CloseFixed\n",
                            "984  2017-08-01      786.81\n",
                            "4349 2004-01-28      200.80\n",
                            "703  2018-09-17      987.61\n",
                            "2742 2010-07-13      509.08\n",
                            "2591 2011-02-22      470.02"
                        ],
                        "text/html": [
                            "<div>\n",
                            "<style scoped>\n",
                            "    .dataframe tbody tr th:only-of-type {\n",
                            "        vertical-align: middle;\n",
                            "    }\n",
                            "\n",
                            "    .dataframe tbody tr th {\n",
                            "        vertical-align: top;\n",
                            "    }\n",
                            "\n",
                            "    .dataframe thead th {\n",
                            "        text-align: right;\n",
                            "    }\n",
                            "</style>\n",
                            "<table border=\"1\" class=\"dataframe\">\n",
                            "  <thead>\n",
                            "    <tr style=\"text-align: right;\">\n",
                            "      <th></th>\n",
                            "      <th>date</th>\n",
                            "      <th>CloseFixed</th>\n",
                            "    </tr>\n",
                            "  </thead>\n",
                            "  <tbody>\n",
                            "    <tr>\n",
                            "      <th>984</th>\n",
                            "      <td>2017-08-01</td>\n",
                            "      <td>786.81</td>\n",
                            "    </tr>\n",
                            "    <tr>\n",
                            "      <th>4349</th>\n",
                            "      <td>2004-01-28</td>\n",
                            "      <td>200.80</td>\n",
                            "    </tr>\n",
                            "    <tr>\n",
                            "      <th>703</th>\n",
                            "      <td>2018-09-17</td>\n",
                            "      <td>987.61</td>\n",
                            "    </tr>\n",
                            "    <tr>\n",
                            "      <th>2742</th>\n",
                            "      <td>2010-07-13</td>\n",
                            "      <td>509.08</td>\n",
                            "    </tr>\n",
                            "    <tr>\n",
                            "      <th>2591</th>\n",
                            "      <td>2011-02-22</td>\n",
                            "      <td>470.02</td>\n",
                            "    </tr>\n",
                            "  </tbody>\n",
                            "</table>\n",
                            "</div>"
                        ]
                    },
                    "metadata": {},
                    "execution_count": 121
                }
            ],
            "metadata": {}
        },
        {
            "cell_type": "code",
            "execution_count": 122,
            "source": [
                "vnindex.info()"
            ],
            "outputs": [
                {
                    "output_type": "stream",
                    "name": "stdout",
                    "text": [
                        "<class 'pandas.core.frame.DataFrame'>\n",
                        "RangeIndex: 5058 entries, 0 to 5057\n",
                        "Data columns (total 2 columns):\n",
                        " #   Column      Non-Null Count  Dtype         \n",
                        "---  ------      --------------  -----         \n",
                        " 0   date        5058 non-null   datetime64[ns]\n",
                        " 1   CloseFixed  5058 non-null   float64       \n",
                        "dtypes: datetime64[ns](1), float64(1)\n",
                        "memory usage: 79.2 KB\n"
                    ]
                }
            ],
            "metadata": {}
        },
        {
            "cell_type": "markdown",
            "source": [
                "### 5058 samples is too much, we just need 629 obs (equivalent to the period from 01/2019 - 07/2021)"
            ],
            "metadata": {}
        },
        {
            "cell_type": "code",
            "execution_count": 123,
            "source": [
                "vnindex = vnindex.head(380)\r\n",
                "vnindex"
            ],
            "outputs": [
                {
                    "output_type": "execute_result",
                    "data": {
                        "text/plain": [
                            "          date  CloseFixed\n",
                            "0   2021-07-09   1347.1400\n",
                            "1   2021-07-08   1374.6801\n",
                            "2   2021-07-07   1388.5500\n",
                            "3   2021-07-06   1354.7900\n",
                            "4   2021-07-05   1411.1300\n",
                            "..         ...         ...\n",
                            "375 2020-01-07    958.8800\n",
                            "376 2020-01-06    955.7900\n",
                            "377 2020-01-03    965.1400\n",
                            "378 2020-01-02    966.6700\n",
                            "379 2019-12-31    960.9900\n",
                            "\n",
                            "[380 rows x 2 columns]"
                        ],
                        "text/html": [
                            "<div>\n",
                            "<style scoped>\n",
                            "    .dataframe tbody tr th:only-of-type {\n",
                            "        vertical-align: middle;\n",
                            "    }\n",
                            "\n",
                            "    .dataframe tbody tr th {\n",
                            "        vertical-align: top;\n",
                            "    }\n",
                            "\n",
                            "    .dataframe thead th {\n",
                            "        text-align: right;\n",
                            "    }\n",
                            "</style>\n",
                            "<table border=\"1\" class=\"dataframe\">\n",
                            "  <thead>\n",
                            "    <tr style=\"text-align: right;\">\n",
                            "      <th></th>\n",
                            "      <th>date</th>\n",
                            "      <th>CloseFixed</th>\n",
                            "    </tr>\n",
                            "  </thead>\n",
                            "  <tbody>\n",
                            "    <tr>\n",
                            "      <th>0</th>\n",
                            "      <td>2021-07-09</td>\n",
                            "      <td>1347.1400</td>\n",
                            "    </tr>\n",
                            "    <tr>\n",
                            "      <th>1</th>\n",
                            "      <td>2021-07-08</td>\n",
                            "      <td>1374.6801</td>\n",
                            "    </tr>\n",
                            "    <tr>\n",
                            "      <th>2</th>\n",
                            "      <td>2021-07-07</td>\n",
                            "      <td>1388.5500</td>\n",
                            "    </tr>\n",
                            "    <tr>\n",
                            "      <th>3</th>\n",
                            "      <td>2021-07-06</td>\n",
                            "      <td>1354.7900</td>\n",
                            "    </tr>\n",
                            "    <tr>\n",
                            "      <th>4</th>\n",
                            "      <td>2021-07-05</td>\n",
                            "      <td>1411.1300</td>\n",
                            "    </tr>\n",
                            "    <tr>\n",
                            "      <th>...</th>\n",
                            "      <td>...</td>\n",
                            "      <td>...</td>\n",
                            "    </tr>\n",
                            "    <tr>\n",
                            "      <th>375</th>\n",
                            "      <td>2020-01-07</td>\n",
                            "      <td>958.8800</td>\n",
                            "    </tr>\n",
                            "    <tr>\n",
                            "      <th>376</th>\n",
                            "      <td>2020-01-06</td>\n",
                            "      <td>955.7900</td>\n",
                            "    </tr>\n",
                            "    <tr>\n",
                            "      <th>377</th>\n",
                            "      <td>2020-01-03</td>\n",
                            "      <td>965.1400</td>\n",
                            "    </tr>\n",
                            "    <tr>\n",
                            "      <th>378</th>\n",
                            "      <td>2020-01-02</td>\n",
                            "      <td>966.6700</td>\n",
                            "    </tr>\n",
                            "    <tr>\n",
                            "      <th>379</th>\n",
                            "      <td>2019-12-31</td>\n",
                            "      <td>960.9900</td>\n",
                            "    </tr>\n",
                            "  </tbody>\n",
                            "</table>\n",
                            "<p>380 rows × 2 columns</p>\n",
                            "</div>"
                        ]
                    },
                    "metadata": {},
                    "execution_count": 123
                }
            ],
            "metadata": {}
        },
        {
            "cell_type": "code",
            "execution_count": 124,
            "source": [
                "vnindex.head(128)"
            ],
            "outputs": [
                {
                    "output_type": "execute_result",
                    "data": {
                        "text/plain": [
                            "          date  CloseFixed\n",
                            "0   2021-07-09   1347.1400\n",
                            "1   2021-07-08   1374.6801\n",
                            "2   2021-07-07   1388.5500\n",
                            "3   2021-07-06   1354.7900\n",
                            "4   2021-07-05   1411.1300\n",
                            "..         ...         ...\n",
                            "123 2021-01-07   1156.4900\n",
                            "124 2021-01-06   1143.2100\n",
                            "125 2021-01-05   1132.5500\n",
                            "126 2021-01-04   1120.4700\n",
                            "127 2020-12-31   1103.8700\n",
                            "\n",
                            "[128 rows x 2 columns]"
                        ],
                        "text/html": [
                            "<div>\n",
                            "<style scoped>\n",
                            "    .dataframe tbody tr th:only-of-type {\n",
                            "        vertical-align: middle;\n",
                            "    }\n",
                            "\n",
                            "    .dataframe tbody tr th {\n",
                            "        vertical-align: top;\n",
                            "    }\n",
                            "\n",
                            "    .dataframe thead th {\n",
                            "        text-align: right;\n",
                            "    }\n",
                            "</style>\n",
                            "<table border=\"1\" class=\"dataframe\">\n",
                            "  <thead>\n",
                            "    <tr style=\"text-align: right;\">\n",
                            "      <th></th>\n",
                            "      <th>date</th>\n",
                            "      <th>CloseFixed</th>\n",
                            "    </tr>\n",
                            "  </thead>\n",
                            "  <tbody>\n",
                            "    <tr>\n",
                            "      <th>0</th>\n",
                            "      <td>2021-07-09</td>\n",
                            "      <td>1347.1400</td>\n",
                            "    </tr>\n",
                            "    <tr>\n",
                            "      <th>1</th>\n",
                            "      <td>2021-07-08</td>\n",
                            "      <td>1374.6801</td>\n",
                            "    </tr>\n",
                            "    <tr>\n",
                            "      <th>2</th>\n",
                            "      <td>2021-07-07</td>\n",
                            "      <td>1388.5500</td>\n",
                            "    </tr>\n",
                            "    <tr>\n",
                            "      <th>3</th>\n",
                            "      <td>2021-07-06</td>\n",
                            "      <td>1354.7900</td>\n",
                            "    </tr>\n",
                            "    <tr>\n",
                            "      <th>4</th>\n",
                            "      <td>2021-07-05</td>\n",
                            "      <td>1411.1300</td>\n",
                            "    </tr>\n",
                            "    <tr>\n",
                            "      <th>...</th>\n",
                            "      <td>...</td>\n",
                            "      <td>...</td>\n",
                            "    </tr>\n",
                            "    <tr>\n",
                            "      <th>123</th>\n",
                            "      <td>2021-01-07</td>\n",
                            "      <td>1156.4900</td>\n",
                            "    </tr>\n",
                            "    <tr>\n",
                            "      <th>124</th>\n",
                            "      <td>2021-01-06</td>\n",
                            "      <td>1143.2100</td>\n",
                            "    </tr>\n",
                            "    <tr>\n",
                            "      <th>125</th>\n",
                            "      <td>2021-01-05</td>\n",
                            "      <td>1132.5500</td>\n",
                            "    </tr>\n",
                            "    <tr>\n",
                            "      <th>126</th>\n",
                            "      <td>2021-01-04</td>\n",
                            "      <td>1120.4700</td>\n",
                            "    </tr>\n",
                            "    <tr>\n",
                            "      <th>127</th>\n",
                            "      <td>2020-12-31</td>\n",
                            "      <td>1103.8700</td>\n",
                            "    </tr>\n",
                            "  </tbody>\n",
                            "</table>\n",
                            "<p>128 rows × 2 columns</p>\n",
                            "</div>"
                        ]
                    },
                    "metadata": {},
                    "execution_count": 124
                }
            ],
            "metadata": {}
        },
        {
            "cell_type": "code",
            "execution_count": 125,
            "source": [
                "vnindex.describe()"
            ],
            "outputs": [
                {
                    "output_type": "execute_result",
                    "data": {
                        "text/plain": [
                            "        CloseFixed\n",
                            "count   380.000000\n",
                            "mean   1005.887238\n",
                            "std     187.387066\n",
                            "min     659.210000\n",
                            "25%     864.232500\n",
                            "50%     943.030000\n",
                            "75%    1169.037425\n",
                            "max    1420.270000"
                        ],
                        "text/html": [
                            "<div>\n",
                            "<style scoped>\n",
                            "    .dataframe tbody tr th:only-of-type {\n",
                            "        vertical-align: middle;\n",
                            "    }\n",
                            "\n",
                            "    .dataframe tbody tr th {\n",
                            "        vertical-align: top;\n",
                            "    }\n",
                            "\n",
                            "    .dataframe thead th {\n",
                            "        text-align: right;\n",
                            "    }\n",
                            "</style>\n",
                            "<table border=\"1\" class=\"dataframe\">\n",
                            "  <thead>\n",
                            "    <tr style=\"text-align: right;\">\n",
                            "      <th></th>\n",
                            "      <th>CloseFixed</th>\n",
                            "    </tr>\n",
                            "  </thead>\n",
                            "  <tbody>\n",
                            "    <tr>\n",
                            "      <th>count</th>\n",
                            "      <td>380.000000</td>\n",
                            "    </tr>\n",
                            "    <tr>\n",
                            "      <th>mean</th>\n",
                            "      <td>1005.887238</td>\n",
                            "    </tr>\n",
                            "    <tr>\n",
                            "      <th>std</th>\n",
                            "      <td>187.387066</td>\n",
                            "    </tr>\n",
                            "    <tr>\n",
                            "      <th>min</th>\n",
                            "      <td>659.210000</td>\n",
                            "    </tr>\n",
                            "    <tr>\n",
                            "      <th>25%</th>\n",
                            "      <td>864.232500</td>\n",
                            "    </tr>\n",
                            "    <tr>\n",
                            "      <th>50%</th>\n",
                            "      <td>943.030000</td>\n",
                            "    </tr>\n",
                            "    <tr>\n",
                            "      <th>75%</th>\n",
                            "      <td>1169.037425</td>\n",
                            "    </tr>\n",
                            "    <tr>\n",
                            "      <th>max</th>\n",
                            "      <td>1420.270000</td>\n",
                            "    </tr>\n",
                            "  </tbody>\n",
                            "</table>\n",
                            "</div>"
                        ]
                    },
                    "metadata": {},
                    "execution_count": 125
                }
            ],
            "metadata": {}
        },
        {
            "cell_type": "markdown",
            "source": [
                "### Save 'vnindex' data to pickle file"
            ],
            "metadata": {}
        },
        {
            "cell_type": "code",
            "execution_count": 126,
            "source": [
                "vnindex.to_pickle('{}{}vnindex.pkl'.format(DATA_FOLDER, os.sep))"
            ],
            "outputs": [],
            "metadata": {}
        },
        {
            "cell_type": "markdown",
            "source": [
                "### Plot the data"
            ],
            "metadata": {}
        },
        {
            "cell_type": "code",
            "execution_count": 127,
            "source": [
                "vnindex.plot(x='date', y='CloseFixed', xlabel='Time', ylabel='VNIndex Point', \r\n",
                "            title='VNIndex by time', legend=False, figsize=(16,8))"
            ],
            "outputs": [
                {
                    "output_type": "execute_result",
                    "data": {
                        "text/plain": [
                            "<AxesSubplot:title={'center':'VNIndex by time'}, xlabel='Time', ylabel='VNIndex Point'>"
                        ]
                    },
                    "metadata": {},
                    "execution_count": 127
                },
                {
                    "output_type": "display_data",
                    "data": {
                        "text/plain": [
                            "<Figure size 1152x576 with 1 Axes>"
                        ],
                        "image/png": "[encoded data removed]"
                    },
                    "metadata": {
                        "needs_background": "light"
                    }
                }
            ],
            "metadata": {}
        },
        {
            "cell_type": "code",
            "execution_count": 128,
            "source": [
                "from pandas.plotting import autocorrelation_plot\r\n",
                "autocorrelation_plot(vnindex['CloseFixed'])"
            ],
            "outputs": [
                {
                    "output_type": "execute_result",
                    "data": {
                        "text/plain": [
                            "<AxesSubplot:xlabel='Lag', ylabel='Autocorrelation'>"
                        ]
                    },
                    "metadata": {},
                    "execution_count": 128
                },
                {
                    "output_type": "display_data",
                    "data": {
                        "text/plain": [
                            "<Figure size 460.8x316.8 with 1 Axes>"
                        ],
                        "image/png": "[encoded data removed]"
                    },
                    "metadata": {
                        "needs_background": "light"
                    }
                }
            ],
            "metadata": {}
        },
        {
            "cell_type": "markdown",
            "source": [
                "## ARIMA based model"
            ],
            "metadata": {}
        },
        {
            "cell_type": "code",
            "execution_count": 129,
            "source": [
                "from statsmodels.tsa.arima.model import ARIMA\r\n",
                "from sklearn.metrics import mean_squared_error"
            ],
            "outputs": [],
            "metadata": {}
        },
        {
            "cell_type": "code",
            "execution_count": 130,
            "source": [
                "# Data prepare\r\n",
                "\r\n",
                "X = vnindex['CloseFixed']\r\n",
                "train_size = int(len(X) * 0.8)\r\n",
                "train, test = X[:train_size], X[train_size:len(X)]\r\n",
                "\r\n",
                "# Convert series to list\r\n",
                "train = [v for v in train]\r\n",
                "test = [v for v in test]\r\n",
                "prediction = list()"
            ],
            "outputs": [],
            "metadata": {}
        },
        {
            "cell_type": "code",
            "execution_count": 131,
            "source": [
                "import warnings\r\n",
                "warnings.filterwarnings(\"ignore\")"
            ],
            "outputs": [],
            "metadata": {}
        },
        {
            "cell_type": "code",
            "execution_count": 132,
            "source": [
                "def plot_evaluate(prediction, test):\r\n",
                "    plt.plot(test, label='Real value')\r\n",
                "    plt.plot(prediction, color='red', label='Predicted value')\r\n",
                "    plt.legend()\r\n",
                "    plt.show()"
            ],
            "outputs": [],
            "metadata": {}
        },
        {
            "cell_type": "code",
            "execution_count": 133,
            "source": [
                "# Base ARIMA\r\n",
                "for t in range(len(test)):\r\n",
                "\tmodel = ARIMA(train)\r\n",
                "\tmodel_fit = model.fit()\r\n",
                "\toutput = model_fit.forecast()\r\n",
                "\ty = output[0]\r\n",
                "\tprediction.append(y)\r\n",
                "\tobs = test[t]\r\n",
                "\ttrain.append(obs)\r\n",
                "\tprint('predicted=%f, expected=%f' % (y, obs))\r\n",
                "\r\n",
                "# evaluate forecasts\r\n",
                "rmse = mean_squared_error(y_true=test, y_pred=prediction, squared=False)\r\n",
                "print('Test RMSE: %.3f' % rmse)\r\n",
                "\r\n",
                "# plot forecasts against actual outcomes\r\n",
                "plot_evaluate(prediction, test)"
            ],
            "outputs": [
                {
                    "output_type": "stream",
                    "name": "stdout",
                    "text": [
                        "predicted=1043.956104, expected=773.910000\n",
                        "predicted=1043.070064, expected=768.920000\n",
                        "predicted=1042.174151, expected=766.840000\n",
                        "predicted=1041.277289, expected=794.970000\n",
                        "predicted=1040.477564, expected=789.600000\n",
                        "predicted=1039.665763, expected=780.700000\n",
                        "predicted=1038.830315, expected=777.220000\n",
                        "predicted=1037.989128, expected=767.410000\n",
                        "predicted=1037.121885, expected=765.790000\n",
                        "predicted=1036.255010, expected=757.940000\n",
                        "predicted=1035.368661, expected=760.330000\n",
                        "predicted=1034.495520, expected=748.020000\n",
                        "predicted=1033.588950, expected=746.690000\n",
                        "predicted=1032.683917, expected=736.750000\n",
                        "predicted=1031.753300, expected=701.800000\n",
                        "predicted=1030.718963, expected=680.230000\n",
                        "predicted=1029.623687, expected=662.530000\n",
                        "predicted=1028.480215, expected=662.260000\n",
                        "predicted=1027.342771, expected=696.060000\n",
                        "predicted=1026.317120, expected=694.210000\n",
                        "predicted=1025.292094, expected=690.250000\n",
                        "predicted=1024.261197, expected=659.210000\n",
                        "predicted=1023.141588, expected=666.590000\n",
                        "predicted=1022.051040, expected=709.730000\n",
                        "predicted=1021.098838, expected=725.940000\n",
                        "predicted=1020.201704, expected=747.660000\n",
                        "predicted=1019.375823, expected=745.780000\n",
                        "predicted=1018.549272, expected=747.860000\n",
                        "predicted=1017.733912, expected=761.780000\n",
                        "predicted=1016.965283, expected=769.250000\n",
                        "predicted=1016.223147, expected=811.350000\n",
                        "predicted=1015.612058, expected=837.500000\n",
                        "predicted=1015.081964, expected=835.490000\n",
                        "predicted=1014.549052, expected=891.440000\n",
                        "predicted=1014.184820, expected=893.310000\n",
                        "predicted=1013.825786, expected=889.370000\n",
                        "predicted=1013.462207, expected=890.610000\n",
                        "predicted=1013.101933, expected=884.430000\n",
                        "predicted=1012.725694, expected=882.190000\n",
                        "predicted=1012.345141, expected=898.440000\n",
                        "predicted=1012.014006, expected=895.970000\n",
                        "predicted=1011.677653, expected=909.670000\n",
                        "predicted=1011.382833, expected=903.340000\n",
                        "predicted=1011.071472, expected=933.090000\n",
                        "predicted=1010.847380, expected=938.130000\n",
                        "predicted=1010.639021, expected=928.760000\n",
                        "predicted=1010.405088, expected=927.930000\n",
                        "predicted=1010.170129, expected=934.770000\n",
                        "predicted=1009.955907, expected=937.450000\n",
                        "predicted=1009.750507, expected=938.240000\n",
                        "predicted=1009.548504, expected=937.680000\n",
                        "predicted=1009.346061, expected=934.670000\n",
                        "predicted=1009.136230, expected=930.730000\n",
                        "predicted=1008.916663, expected=940.750000\n",
                        "predicted=1008.726252, expected=938.540000\n",
                        "predicted=1008.530752, expected=925.910000\n",
                        "predicted=1008.301247, expected=929.090000\n",
                        "predicted=1008.081826, expected=928.140000\n",
                        "predicted=1007.860991, expected=936.620000\n",
                        "predicted=1007.664607, expected=959.580000\n",
                        "predicted=1007.532896, expected=991.460000\n",
                        "predicted=1007.488471, expected=986.370000\n",
                        "predicted=1007.430897, expected=978.630000\n",
                        "predicted=1007.352291, expected=978.960000\n",
                        "predicted=1007.275264, expected=974.310000\n",
                        "predicted=1007.185932, expected=967.560000\n",
                        "predicted=1007.078835, expected=967.000000\n",
                        "predicted=1006.970805, expected=965.840000\n",
                        "predicted=1006.860238, expected=968.540000\n",
                        "predicted=1006.757501, expected=960.150000\n",
                        "predicted=1006.632886, expected=948.980000\n",
                        "predicted=1006.479170, expected=958.880000\n",
                        "predicted=1006.352553, expected=955.790000\n",
                        "predicted=1006.218428, expected=965.140000\n",
                        "predicted=1006.109760, expected=966.670000\n",
                        "predicted=1006.005698, expected=960.990000\n",
                        "Test RMSE: 199.676\n"
                    ]
                },
                {
                    "output_type": "display_data",
                    "data": {
                        "text/plain": [
                            "<Figure size 460.8x316.8 with 1 Axes>"
                        ],
                        "image/png": "[encoded data removed]"
                    },
                    "metadata": {
                        "needs_background": "light"
                    }
                }
            ],
            "metadata": {}
        },
        {
            "cell_type": "code",
            "execution_count": null,
            "source": [
                "def evaluate_arima_model(X, arima_order):\r\n",
                "\t# prepare training dataset\r\n",
                "\ttrain_size = int(len(X) * 0.66)\r\n",
                "\ttrain, test = X[0:train_size], X[train_size:]\r\n",
                "\thistory = [x for x in train]\r\n",
                "\t# make predictions\r\n",
                "\tpredictions = list()\r\n",
                "\tfor t in range(len(test)):\r\n",
                "\t\tmodel = ARIMA(history, order=arima_order)\r\n",
                "\t\tmodel_fit = model.fit()\r\n",
                "\t\tyhat = model_fit.forecast()[0]\r\n",
                "\t\tpredictions.append(yhat)\r\n",
                "\t\thistory.append(test[t])\r\n",
                "\t# calculate out of sample error\r\n",
                "\trmse = sqrt(mean_squared_error(test, predictions))\r\n",
                "\treturn rmse"
            ],
            "outputs": [],
            "metadata": {}
        }
    ],
    "metadata": {
        "orig_nbformat": 4,
        "language_info": {
            "name": "python"
        }
    },
    "nbformat": 4,
    "nbformat_minor": 2
}